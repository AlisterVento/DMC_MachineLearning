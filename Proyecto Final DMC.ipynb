{
 "cells": [
  {
   "cell_type": "markdown",
   "metadata": {},
   "source": [
    "# Segmentacion y Clasificacion de Aprobaciones de Tarjetas"
   ]
  },
  {
   "cell_type": "markdown",
   "metadata": {},
   "source": [
    "## 1.Introducción"
   ]
  },
  {
   "cell_type": "markdown",
   "metadata": {},
   "source": [
    "La puntuación de crédito es una herramienta esencial utilizada por las instituciones financieras para evaluar el riesgo de otorgar crédito a un solicitante. Este puntaje, que generalmente se presenta como un valor numérico en una escala, refleja la capacidad de una persona para manejar sus finanzas y cumplir con sus obligaciones crediticias. A través de esta evaluación, los bancos pueden decidir si aprueban o rechazan una solicitud de crédito, como una tarjeta de crédito o un préstamo.\n",
    "\n",
    "El puntaje de crédito se basa en varios factores, como el historial de pagos, las deudas actuales, el tiempo de uso del crédito y la diversidad de productos financieros que ha manejado el solicitante. Un puntaje más alto indica un menor riesgo de incumplimiento, lo que se traduce en mejores condiciones crediticias, como tasas de interés más bajas. Por el contrario, un puntaje bajo puede resultar en la denegación del crédito o en la oferta de condiciones menos favorables. Las agencias de crédito son las encargadas de recopilar y analizar esta información para asignar el valor numérico, que las entidades financieras utilizan para tomar decisiones.\n",
    "\n",
    "En la industria financiera, las tarjetas de puntuación de crédito son una herramienta común para evaluar el riesgo. Estas tarjetas utilizan la información personal y los datos financieros proporcionados por los solicitantes para predecir la probabilidad de que incumplan con sus pagos en el futuro. Tradicionalmente, estos sistemas se basan en datos históricos para cuantificar el riesgo de manera objetiva, lo que permite a los bancos y prestamistas tomar decisiones fundamentadas.\n",
    "\n",
    "Uno de los métodos más utilizados para la calificación crediticia es el modelo logístico, ya que es adecuado para tareas de clasificación binaria, es decir, decidir si un solicitante es aprobado o rechazado. Este modelo permite calcular los coeficientes de cada característica o factor evaluado, como los ingresos o el historial de pagos, y facilita la interpretación de los resultados. Para simplificar su aplicación, los coeficientes se multiplican por un valor fijo (como 100) y se redondean, lo que produce un puntaje claro que puede ser fácilmente entendido y gestionado por los evaluadores de riesgo.\n",
    "\n",
    "Sin embargo, los modelos logísticos tradicionales, que se basan en datos históricos, pueden perder su capacidad predictiva en épocas de fluctuaciones económicas. Cuando el entorno financiero experimenta cambios significativos, como crisis o inestabilidad, los modelos anteriores pueden volverse menos efectivos, ya que no están diseñados para adaptarse a condiciones cambiantes.\n",
    "\n",
    "Con el avance de la tecnología y el desarrollo de algoritmos de aprendizaje automático (machine learning), se han introducido técnicas más sofisticadas y precisas para la evaluación del riesgo crediticio. Métodos como Boosting, Random Forest y Support Vector Machines ofrecen una capacidad predictiva más robusta que los modelos tradicionales, al ser capaces de manejar grandes volúmenes de datos y detectar patrones complejos que el análisis estadístico tradicional podría pasar por alto. Estos algoritmos han mejorado la precisión en la predicción de riesgos y son capaces de adaptarse mejor a cambios en el entorno económico.\n",
    "\n",
    "No obstante, estos nuevos modelos de machine learning presentan un desafío importante: la falta de transparencia. Mientras que los modelos tradicionales, como el logístico, son fáciles de interpretar y permiten explicar con claridad por qué se aprobó o rechazó una solicitud, los algoritmos avanzados son más complejos y, en muchos casos, se comportan como una \"caja negra\". Esto puede dificultar proporcionar explicaciones claras a los clientes o reguladores sobre los motivos detrás de una decisión."
   ]
  },
  {
   "cell_type": "markdown",
   "metadata": {},
   "source": [
    "## 2.Carga de Librerias Necesarias "
   ]
  },
  {
   "cell_type": "code",
   "execution_count": 1,
   "metadata": {},
   "outputs": [],
   "source": [
    "import pandas as pd\n",
    "from sklearn.metrics import accuracy_score\n",
    "from sklearn.model_selection import train_test_split"
   ]
  },
  {
   "cell_type": "markdown",
   "metadata": {},
   "source": [
    "## 3.ETL"
   ]
  },
  {
   "cell_type": "markdown",
   "metadata": {},
   "source": [
    "### 3.1.Carga de Datos"
   ]
  },
  {
   "cell_type": "code",
   "execution_count": null,
   "metadata": {},
   "outputs": [],
   "source": [
    "path=r\"./raw data/data.csv\"\n",
    "df_tarjetas=pd.read_csv(path)"
   ]
  },
  {
   "cell_type": "markdown",
   "metadata": {},
   "source": [
    "### 3.1.Carga de la Información"
   ]
  },
  {
   "cell_type": "code",
   "execution_count": 8,
   "metadata": {},
   "outputs": [
    {
     "name": "stdout",
     "output_type": "stream",
     "text": [
      "<class 'pandas.core.frame.DataFrame'>\n",
      "RangeIndex: 438557 entries, 0 to 438556\n",
      "Data columns (total 18 columns):\n",
      " #   Column               Non-Null Count   Dtype  \n",
      "---  ------               --------------   -----  \n",
      " 0   ID                   438557 non-null  int64  \n",
      " 1   CODE_GENDER          438557 non-null  object \n",
      " 2   FLAG_OWN_CAR         438557 non-null  object \n",
      " 3   FLAG_OWN_REALTY      438557 non-null  object \n",
      " 4   CNT_CHILDREN         438557 non-null  int64  \n",
      " 5   AMT_INCOME_TOTAL     438557 non-null  float64\n",
      " 6   NAME_INCOME_TYPE     438557 non-null  object \n",
      " 7   NAME_EDUCATION_TYPE  438557 non-null  object \n",
      " 8   NAME_FAMILY_STATUS   438557 non-null  object \n",
      " 9   NAME_HOUSING_TYPE    438557 non-null  object \n",
      " 10  DAYS_BIRTH           438557 non-null  int64  \n",
      " 11  DAYS_EMPLOYED        438557 non-null  int64  \n",
      " 12  FLAG_MOBIL           438557 non-null  int64  \n",
      " 13  FLAG_WORK_PHONE      438557 non-null  int64  \n",
      " 14  FLAG_PHONE           438557 non-null  int64  \n",
      " 15  FLAG_EMAIL           438557 non-null  int64  \n",
      " 16  OCCUPATION_TYPE      304354 non-null  object \n",
      " 17  CNT_FAM_MEMBERS      438557 non-null  float64\n",
      "dtypes: float64(2), int64(8), object(8)\n",
      "memory usage: 60.2+ MB\n"
     ]
    }
   ],
   "source": [
    "df_tarjetas.info()"
   ]
  },
  {
   "cell_type": "markdown",
   "metadata": {},
   "source": [
    "Al revisar vemos que a primera vista no tenemos columnas con vascios a excepcion de la columna `FLAG PHONE` de igual manera haremos una revision detenida de cada columna"
   ]
  },
  {
   "cell_type": "markdown",
   "metadata": {},
   "source": [
    "**Describir brevemente que es cada columna**"
   ]
  },
  {
   "cell_type": "markdown",
   "metadata": {},
   "source": [
    "### 3.2.Análisis de Descriptivo de los Datos"
   ]
  },
  {
   "cell_type": "code",
   "execution_count": null,
   "metadata": {},
   "outputs": [],
   "source": []
  }
 ],
 "metadata": {
  "kernelspec": {
   "display_name": ".venv",
   "language": "python",
   "name": "python3"
  },
  "language_info": {
   "codemirror_mode": {
    "name": "ipython",
    "version": 3
   },
   "file_extension": ".py",
   "mimetype": "text/x-python",
   "name": "python",
   "nbconvert_exporter": "python",
   "pygments_lexer": "ipython3",
   "version": "3.12.4"
  }
 },
 "nbformat": 4,
 "nbformat_minor": 2
}
